{
 "cells": [
  {
   "cell_type": "markdown",
   "metadata": {},
   "source": [
    "# ***Занятие 1. Домашнее задание***\n",
    "\n",
    "**Простые задания**\n",
    "\n",
    "1. Даны 2 строки long_phrase и short_phrase. Напишите код, который проверяет действительно ли длинная фраза long_phrase длиннее короткой short_phrase. И выводит True или False в зависимости от результата сравнения.\n",
    "\n",
    "long_phrase = 'Насколько проще было бы писать программы, если бы не заказчики'\n",
    "short_phrase = '640Кб должно хватить для любых задач. Билл Гейтс (по легенде)'\n",
    "\n",
    "\n",
    "2. Дана строка text. Определите какая из двух букв встречается в нем чаще - 'а' или 'и'.\n",
    "text = 'Если программист в 9-00 утра на работе, значит, он там и ночевал'\n",
    "\n",
    "P. S. Вам может помочь методы replace или count для строк.\n",
    "\n",
    "3. Дано значение объема файла в байтах. Напишите перевод этого значения в мегабайты в формате:\n",
    "'Объем файла равен 213.68Mb'\n",
    "\n",
    "P. S. Найдите определение килобайта. Это не 1000 байт.\n",
    "\n",
    "4. Выведите на экран значение синуса 30 градусов с помощью метода math.sin.\n",
    "\n",
    "5. В прошлом задании у вас скорее всего не получилось точного значения 0.5 из-за конечной точности вычисления синуса. Но почему некоторые простые операции также могут давать неточный результат? Попробуйте вывести на экран результат операции 0.1 + 0.2. Почему результат неточен?\n",
    "\n",
    "**Задания посложнее**\n",
    "В переменных a и b записаны 2 различных числа. Вам необходимо написать код, который меняет значения a и b местами без использования третьей переменной.\n",
    "\n",
    "Дано число в двоичной системе счисления: num=10011. Напишите алгоритм перевода этого числа в привычную нам десятичную систему счисления.\n",
    "Возможно, вам понадобится цикл прохождения всех целых чисел от 0 до m:\n",
    "for n in range(m)"
   ]
  },
  {
   "cell_type": "markdown",
   "metadata": {},
   "source": [
    "1. Даны 2 строки long_phrase и short_phrase. Напишите код, который проверяет действительно ли длинная фраза long_phrase длиннее короткой short_phrase. И выводит True или False в зависимости от результата сравнения."
   ]
  },
  {
   "cell_type": "code",
   "execution_count": 1,
   "metadata": {},
   "outputs": [],
   "source": [
    "long_phrase = 'Насколько проще было бы писать программы, если бы не заказчики' \n",
    "short_phrase = '640Кб должно хватить для любых задач. Билл Гейтс (по легенде)'"
   ]
  },
  {
   "cell_type": "code",
   "execution_count": 95,
   "metadata": {},
   "outputs": [
    {
     "name": "stdout",
     "output_type": "stream",
     "text": [
      "True\n"
     ]
    }
   ],
   "source": [
    "print(len(long_phrase)>len(short_phrase))  "
   ]
  },
  {
   "cell_type": "markdown",
   "metadata": {},
   "source": [
    "2. Дана строка text. Определите какая из двух букв встречается в нем чаще - 'а' или 'и'."
   ]
  },
  {
   "cell_type": "code",
   "execution_count": 91,
   "metadata": {},
   "outputs": [],
   "source": [
    "text = 'Если программист в 9-00 утра на работе, значит, он там и ночевал'"
   ]
  },
  {
   "cell_type": "code",
   "execution_count": 90,
   "metadata": {},
   "outputs": [
    {
     "name": "stdout",
     "output_type": "stream",
     "text": [
      "\"а\" встречается чаще\n"
     ]
    }
   ],
   "source": [
    "if text.count('а') > text.count('и'):\n",
    "    print('\"а\" встречается чаще')\n",
    "else:\n",
    "    print('\"и\" встречается чаще')"
   ]
  },
  {
   "cell_type": "markdown",
   "metadata": {},
   "source": [
    "3. Дано значение объема файла в байтах. Напишите перевод этого значения в мегабайты в формате: 'Объем файла равен 213.68Mb'"
   ]
  },
  {
   "cell_type": "code",
   "execution_count": 92,
   "metadata": {},
   "outputs": [],
   "source": [
    "b = 224059719"
   ]
  },
  {
   "cell_type": "code",
   "execution_count": 93,
   "metadata": {},
   "outputs": [
    {
     "name": "stdout",
     "output_type": "stream",
     "text": [
      "Объем файла равен 213.68Mb\n"
     ]
    }
   ],
   "source": [
    "print(f'Объем файла равен {b/1024**2:.2f}Mb')"
   ]
  },
  {
   "cell_type": "markdown",
   "metadata": {},
   "source": [
    "4. Выведите на экран значение синуса 30 градусов с помощью метода math.sin."
   ]
  },
  {
   "cell_type": "code",
   "execution_count": 53,
   "metadata": {},
   "outputs": [
    {
     "name": "stdout",
     "output_type": "stream",
     "text": [
      "0.49999999999999994\n"
     ]
    }
   ],
   "source": [
    "import math\n",
    "print(math.sin(math.radians(30)))"
   ]
  },
  {
   "cell_type": "markdown",
   "metadata": {},
   "source": [
    "5. В прошлом задании у вас скорее всего не получилось точного значения 0.5 из-за конечной точности вычисления синуса. Но почему некоторые простые операции также могут давать неточный результат? Попробуйте вывести на экран результат операции 0.1 + 0.2. Почему результат неточен?"
   ]
  },
  {
   "cell_type": "code",
   "execution_count": 55,
   "metadata": {},
   "outputs": [
    {
     "data": {
      "text/plain": [
       "0.30000000000000004"
      ]
     },
     "execution_count": 55,
     "metadata": {},
     "output_type": "execute_result"
    }
   ],
   "source": [
    "0.1+0.2"
   ]
  },
  {
   "cell_type": "markdown",
   "metadata": {},
   "source": [
    "Судя по статьям в интернете это связано с округлением при переводе в двоичную систему и обратно"
   ]
  },
  {
   "cell_type": "markdown",
   "metadata": {},
   "source": [
    "В переменных a и b записаны 2 различных числа. Вам необходимо написать код, который меняет значения a и b местами без использования третьей переменной."
   ]
  },
  {
   "cell_type": "code",
   "execution_count": 61,
   "metadata": {},
   "outputs": [
    {
     "name": "stdout",
     "output_type": "stream",
     "text": [
      "3 5\n",
      "5 3\n"
     ]
    }
   ],
   "source": [
    "a,b = 3,5\n",
    "print(a,b)\n",
    "a,b = b,a\n",
    "print(a,b)"
   ]
  },
  {
   "cell_type": "markdown",
   "metadata": {},
   "source": [
    "Дано число в двоичной системе счисления: num=10011. Напишите алгоритм перевода этого числа в привычную нам десятичную систему счисления.\n",
    "Возможно, вам понадобится цикл прохождения всех целых чисел от 0 до m:\n",
    "for n in range(m)"
   ]
  },
  {
   "cell_type": "code",
   "execution_count": 71,
   "metadata": {},
   "outputs": [],
   "source": [
    "num = 10011"
   ]
  },
  {
   "cell_type": "code",
   "execution_count": 80,
   "metadata": {},
   "outputs": [
    {
     "name": "stdout",
     "output_type": "stream",
     "text": [
      "19\n"
     ]
    }
   ],
   "source": [
    "dec,i = 0,0\n",
    "for n in str(num)[::-1]:\n",
    "    dec = dec+int(n)*2**i\n",
    "    i = i+1\n",
    "print(dec)"
   ]
  }
 ],
 "metadata": {
  "kernelspec": {
   "display_name": "Python 3",
   "language": "python",
   "name": "python3"
  },
  "language_info": {
   "codemirror_mode": {
    "name": "ipython",
    "version": 3
   },
   "file_extension": ".py",
   "mimetype": "text/x-python",
   "name": "python",
   "nbconvert_exporter": "python",
   "pygments_lexer": "ipython3",
   "version": "3.7.3"
  }
 },
 "nbformat": 4,
 "nbformat_minor": 2
}
